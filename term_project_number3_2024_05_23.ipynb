{
 "cells": [
  {
   "cell_type": "code",
   "execution_count": 6,
   "id": "afeda97b",
   "metadata": {},
   "outputs": [
    {
     "name": "stdout",
     "output_type": "stream",
     "text": [
      "/home/ssoyik7239/downloads/jupyter_notebook\r\n"
     ]
    }
   ],
   "source": [
    "!pwd"
   ]
  },
  {
   "cell_type": "code",
   "execution_count": 68,
   "id": "c3f0db2e",
   "metadata": {},
   "outputs": [
    {
     "name": "stdout",
     "output_type": "stream",
     "text": [
      "CLIP-35L33G.bam\t\tguided_mission1.ipynb\t RNA-siLuc.bam.bai\r\n",
      "CLIP-35L33G.bam.bai\tread-counts.txt\t\t RPF-siLin28a.bam\r\n",
      "CLIP-let7d.pileup\tread-counts.txt.summary  RPF-siLin28a.bam.bai\r\n",
      "CLIP-let7g.bam\t\tRNA-control.bam\t\t RPF-siLuc.bam\r\n",
      "CLIP-let7g-gene.pileup\tRNA-control.bam.bai\t RPF-siLuc.bam.bai\r\n",
      "CLIP-let7g.pileup\tRNA-siLin28a.bam\t shannon_entropy.bedgraph\r\n",
      "gencode.gtf\t\tRNA-siLin28a.bam.bai\t transfer\r\n",
      "gencode.gtf.gz\t\tRNA-siLuc.bam\r\n"
     ]
    }
   ],
   "source": [
    "!ls"
   ]
  },
  {
   "cell_type": "code",
   "execution_count": 13,
   "id": "d4f1bb11",
   "metadata": {},
   "outputs": [
    {
     "name": "stdout",
     "output_type": "stream",
     "text": [
      "bedtools is a powerful toolset for genome arithmetic.\r\n",
      "\r\n",
      "Version:   v2.31.1\r\n",
      "About:     developed in the quinlanlab.org and by many contributors worldwide.\r\n",
      "Docs:      http://bedtools.readthedocs.io/\r\n",
      "Code:      https://github.com/arq5x/bedtools2\r\n",
      "Mail:      https://groups.google.com/forum/#!forum/bedtools-discuss\r\n",
      "\r\n",
      "Usage:     bedtools <subcommand> [options]\r\n",
      "\r\n",
      "The bedtools sub-commands include:\r\n",
      "\r\n",
      "[ Genome arithmetic ]\r\n",
      "    intersect     Find overlapping intervals in various ways.\r\n",
      "    window        Find overlapping intervals within a window around an interval.\r\n",
      "    closest       Find the closest, potentially non-overlapping interval.\r\n",
      "    coverage      Compute the coverage over defined intervals.\r\n",
      "    map           Apply a function to a column for each overlapping interval.\r\n",
      "    genomecov     Compute the coverage over an entire genome.\r\n",
      "    merge         Combine overlapping/nearby intervals into a single interval.\r\n",
      "    cluster       Cluster (but don't merge) overlapping/nearby intervals.\r\n",
      "    complement    Extract intervals _not_ represented by an interval file.\r\n",
      "    shift         Adjust the position of intervals.\r\n",
      "    subtract      Remove intervals based on overlaps b/w two files.\r\n",
      "    slop          Adjust the size of intervals.\r\n",
      "    flank         Create new intervals from the flanks of existing intervals.\r\n",
      "    sort          Order the intervals in a file.\r\n",
      "    random        Generate random intervals in a genome.\r\n",
      "    shuffle       Randomly redistribute intervals in a genome.\r\n",
      "    sample        Sample random records from file using reservoir sampling.\r\n",
      "    spacing       Report the gap lengths between intervals in a file.\r\n",
      "    annotate      Annotate coverage of features from multiple files.\r\n",
      "\r\n",
      "[ Multi-way file comparisons ]\r\n",
      "    multiinter    Identifies common intervals among multiple interval files.\r\n",
      "    unionbedg     Combines coverage intervals from multiple BEDGRAPH files.\r\n",
      "\r\n",
      "[ Paired-end manipulation ]\r\n",
      "    pairtobed     Find pairs that overlap intervals in various ways.\r\n",
      "    pairtopair    Find pairs that overlap other pairs in various ways.\r\n",
      "\r\n",
      "[ Format conversion ]\r\n",
      "    bamtobed      Convert BAM alignments to BED (& other) formats.\r\n",
      "    bedtobam      Convert intervals to BAM records.\r\n",
      "    bamtofastq    Convert BAM records to FASTQ records.\r\n",
      "    bedpetobam    Convert BEDPE intervals to BAM records.\r\n",
      "    bed12tobed6   Breaks BED12 intervals into discrete BED6 intervals.\r\n",
      "\r\n",
      "[ Fasta manipulation ]\r\n",
      "    getfasta      Use intervals to extract sequences from a FASTA file.\r\n",
      "    maskfasta     Use intervals to mask sequences from a FASTA file.\r\n",
      "    nuc           Profile the nucleotide content of intervals in a FASTA file.\r\n",
      "\r\n",
      "[ BAM focused tools ]\r\n",
      "    multicov      Counts coverage from multiple BAMs at specific intervals.\r\n",
      "    tag           Tag BAM alignments based on overlaps with interval files.\r\n",
      "\r\n",
      "[ Statistical relationships ]\r\n",
      "    jaccard       Calculate the Jaccard statistic b/w two sets of intervals.\r\n",
      "    reldist       Calculate the distribution of relative distances b/w two files.\r\n",
      "    fisher        Calculate Fisher statistic b/w two feature files.\r\n",
      "\r\n",
      "[ Miscellaneous tools ]\r\n",
      "    overlap       Computes the amount of overlap from two intervals.\r\n",
      "    igv           Create an IGV snapshot batch script.\r\n",
      "    links         Create a HTML page of links to UCSC locations.\r\n",
      "    makewindows   Make interval \"windows\" across a genome.\r\n",
      "    groupby       Group by common cols. & summarize oth. cols. (~ SQL \"groupBy\")\r\n",
      "    expand        Replicate lines based on lists of values in columns.\r\n",
      "    split         Split a file into multiple files with equal records or base pairs.\r\n",
      "    summary       Statistical summary of intervals in a file.\r\n",
      "\r\n",
      "[ General Parameters ]\r\n",
      "     --cram-ref    Reference used by a CRAM input\r\n",
      "\r\n",
      "[ General help ]\r\n",
      "    --help        Print this help menu.\r\n",
      "    --version     What version of bedtools are you using?.\r\n",
      "    --contact     Feature requests, bugs, mailing lists, etc.\r\n",
      "\r\n"
     ]
    }
   ],
   "source": [
    "!bedtools"
   ]
  },
  {
   "cell_type": "code",
   "execution_count": 15,
   "id": "a131195b",
   "metadata": {},
   "outputs": [
    {
     "ename": "NameError",
     "evalue": "name 'bioawk' is not defined",
     "output_type": "error",
     "traceback": [
      "\u001b[0;31m---------------------------------------------------------------------------\u001b[0m",
      "\u001b[0;31mNameError\u001b[0m                                 Traceback (most recent call last)",
      "Cell \u001b[0;32mIn[15], line 1\u001b[0m\n\u001b[0;32m----> 1\u001b[0m \u001b[43mbioawk\u001b[49m\n",
      "\u001b[0;31mNameError\u001b[0m: name 'bioawk' is not defined"
     ]
    }
   ],
   "source": [
    " "
   ]
  },
  {
   "cell_type": "code",
   "execution_count": 17,
   "id": "8b53ed05",
   "metadata": {
    "scrolled": true
   },
   "outputs": [
    {
     "name": "stdout",
     "output_type": "stream",
     "text": [
      "Channels:\n",
      " - conda-forge\n",
      " - bioconda\n",
      " - defaults\n",
      "Platform: linux-64\n",
      "Collecting package metadata (repodata.json): done\n",
      "Solving environment: done\n",
      "\n",
      "# All requested packages already installed.\n",
      "\n",
      "\n",
      "Note: you may need to restart the kernel to use updated packages.\n"
     ]
    }
   ],
   "source": [
    "conda install -y bioawk"
   ]
  },
  {
   "cell_type": "code",
   "execution_count": 3,
   "id": "b0100566",
   "metadata": {},
   "outputs": [
    {
     "name": "stdout",
     "output_type": "stream",
     "text": [
      "usage: bioawk [-F fs] [-v var=value] [-c fmt] [-tH] [-f progfile | 'prog'] [file ...]\r\n"
     ]
    }
   ],
   "source": [
    "!bioawk"
   ]
  },
  {
   "cell_type": "code",
   "execution_count": 8,
   "id": "fe1b2e34",
   "metadata": {},
   "outputs": [
    {
     "name": "stdout",
     "output_type": "stream",
     "text": [
      "/home/ssoyik7239/bioinfo_snu/bioinfo_project/guided_mission1/binfo1-datapack1\n"
     ]
    }
   ],
   "source": [
    "%cd ~/bioinfo_snu/bioinfo_project/guided_mission1/binfo1-datapack1"
   ]
  },
  {
   "cell_type": "code",
   "execution_count": 10,
   "id": "be605378",
   "metadata": {},
   "outputs": [
    {
     "name": "stdout",
     "output_type": "stream",
     "text": [
      "chr9\tENSEMBL\tgene\t106056039\t106056126\t.\t+\t.\tgene_id \"ENSMUSG00000065440.3\"; gene_type \"miRNA\"; gene_name \"Mirlet7g\"; level 3; mgi_id \"MGI:2676800\";\r\n",
      "chr9\tENSEMBL\ttranscript\t106056039\t106056126\t.\t+\t.\tgene_id \"ENSMUSG00000065440.3\"; transcript_id \"ENSMUST00000083506.3\"; gene_type \"miRNA\"; gene_name \"Mirlet7g\"; transcript_type \"miRNA\"; transcript_name \"Mirlet7g-201\"; level 3; transcript_support_level \"NA\"; mgi_id \"MGI:2676800\"; tag \"basic\";\r\n",
      "chr9\tENSEMBL\texon\t106056039\t106056126\t.\t+\t.\tgene_id \"ENSMUSG00000065440.3\"; transcript_id \"ENSMUST00000083506.3\"; gene_type \"miRNA\"; gene_name \"Mirlet7g\"; transcript_type \"miRNA\"; transcript_name \"Mirlet7g-201\"; exon_number 1; exon_id \"ENSMUSE00000522665.2\"; level 3; transcript_support_level \"NA\"; mgi_id \"MGI:2676800\"; tag \"basic\";\r\n"
     ]
    }
   ],
   "source": [
    "!grep -i mirlet7g ./gencode.gtf"
   ]
  },
  {
   "cell_type": "code",
   "execution_count": 13,
   "id": "5316fde6",
   "metadata": {},
   "outputs": [],
   "source": [
    "!samtools view -b -o CLIP-let7g.bam ./CLIP-35L33G.bam chr9:106056039-106056126"
   ]
  },
  {
   "cell_type": "code",
   "execution_count": 15,
   "id": "8b9fd4f7",
   "metadata": {},
   "outputs": [
    {
     "name": "stdout",
     "output_type": "stream",
     "text": [
      "163\r\n"
     ]
    }
   ],
   "source": [
    "!samtools view CLIP-let7g.bam | wc -l"
   ]
  },
  {
   "cell_type": "code",
   "execution_count": 17,
   "id": "ee19d79b",
   "metadata": {},
   "outputs": [
    {
     "name": "stdout",
     "output_type": "stream",
     "text": [
      "[mpileup] 1 samples in 1 input files\n",
      "68548 CLIP-let7g.pileup\n"
     ]
    }
   ],
   "source": [
    "!samtools mpileup CLIP-let7g.bam > CLIP-let7g.pileup\n",
    "!wc -l CLIP-let7g.pileup"
   ]
  },
  {
   "cell_type": "code",
   "execution_count": 20,
   "id": "ae4cc549",
   "metadata": {},
   "outputs": [
    {
     "name": "stdout",
     "output_type": "stream",
     "text": [
      "chr9\t106007092\tN\t9\t^Ga^Ia^Ha^Ia^Ga^Ga^Ha^Ia^Ia\t<IFIGGHII\r\n",
      "chr9\t106007093\tN\t9\tggggggggg\tAFGIEGDII\r\n",
      "chr9\t106007094\tN\t9\tccccccccc\tEHHIGAFEH\r\n",
      "chr9\t106007095\tN\t9\taaaaaaaaa\t?HDIFA>II\r\n",
      "chr9\t106007096\tN\t9\taaaaaaaaa\tEHHIG@CHH\r\n",
      "chr9\t106007097\tN\t9\tttttttttt\t=HGEGDFII\r\n",
      "chr9\t106007098\tN\t9\taaaaaaaaa\t?HHIGDEII\r\n",
      "chr9\t106007099\tN\t9\tg-2nng-2nng-2nng-2nng-2nng-2nng-2nng-2nng-2nn\t?IEHGEDII\r\n",
      "chr9\t106007100\tN\t9\t*********\t8IBIBC@EI\r\n",
      "chr9\t106007101\tN\t9\t*********\t8IBIBC@EI\r\n"
     ]
    }
   ],
   "source": [
    "!head CLIP-let7g.pileup"
   ]
  },
  {
   "cell_type": "code",
   "execution_count": 22,
   "id": "ca86ae36",
   "metadata": {},
   "outputs": [
    {
     "name": "stdout",
     "output_type": "stream",
     "text": [
      "chr9\t106056117\tN\t138\t<<<<<<<<<CCCCCCCCCCCCCCCCCCCCCCCCCCCCCCCCCCCCCCCCCCCCCCCCCCCCCCCCCCCCCCCCCCCCCCCCCCCCCCCCCCCCCCCCCCCCCCCCCCCCCCCCCCCCCCCCCCCCCCCCCCCCCCCCC\tBHEIG?DIIHGHII:;HGIIDGGGIIBGEB?>H<GGIIIIDIIGFHIHH9IGG=GGHIDH?DGIBIIHHGGIEIGI8GIDHDG.GGHEDIIDIDGDHIDGIFGHG;DCDDHEE@I?CGG:IHGIBGIHIIDG@DHIGG\r\n",
      "chr9\t106056118\tN\t139\t<<<<<<<<<CCCCCCCCCCCCCCCCCCCCCCCCCCCCCCCCCCCCCCCCCCCCCCCCCCCCCCCCCCCCCCCCCCCCCCCCCCCCCCCCCCCCCCCCCCCCCCCCCCCCCCCCCCCCCCCCCCCCCCCCCCCCCCCCCC\tBHEIG?DIIHGHII3AHIIIDGGGIIB3EHFBH>GIIIIIIIIIHIIHHAIIGBDGHIDH?GIIGIIHHDIIHIGIGGI=BGG9GIHHHIIGI=IAIIGGIEHGIEBG@DHDE;IBDGG4IGGIGGIIIIGGGDGIH1G\r\n",
      "chr9\t106056119\tN\t138\t<<<<<<<<<TTTTTTTTTTTTTTTTTTTTTTTTTT$TTTT$TTTTTTTTTTTTTTT$TTTT$TTTTTTT$TTTTTTTTTTTTTTTTTTTTTTTTTTTTTTTTTTTTTTTTTTTTTTTTTTTTTTTTTTTTTTTTTTTTTTTTT\tBHEIG?DIIGEFII:/GIIEDDHDIIF>BH3<HBEGIHIGFIIIBIIBE:HHGD>EGGDH7BIIGGIHHDHIHDEIGEIDHGG;GIHGHHIGD:IGHD:GGEHH?3G87HD</I=DGG=IHHIHBIFII@<HDHHH1G\r\n",
      "chr9\t106056120\tN\t133\t<<<<<<<<<TTTTTTTTTTTTTTTTTTTTTTTTTTTT$TTTT$TTT$TTTTTTTTTT$TTTTTTTT$TTTTTTTTTTTT$T$TTTTTT$TTTT$TT$TTTTTTTTTTTTTTTTTTT$TTTTTTTTTTTTTTTTTTTTTTTTTTT\tBHEIG?DIIHFBII74BIIIGDIIIIA8DHECHBIIIIIIIIHIIHB?IDGGGFDH?GIIIIHH@GHHGEDDGIEHBEDIHHGIIGI:HBII8DIIHHIBDD;<HDD3HB?@G?HHIIHIIIIIB@HDHDH8G\r\n",
      "chr9\t106056121\tN\t118\t<<<<<<<<<GGGGGGGGGGGGGGGGGGGG$G$G$G$G$G$G$G$GGGGGG$GG$GGGG$GG$GGGG$G$GGG$GGG$GGG$GGGG$GGGGG$GGGGGGGGG$GGGGGG$GG$GGG$GGG$GGGG$G$GG$GGGGGG$GGGG$G$G$G$G$G$\tBHEIG?DIIB<EDI/7BHHFB<FGHI3?GG>HAIHIFEF@H<<2>D3EE;HBAIIIBH4IHG@DI>G482GGFHID:I9II@BH@>HE8@;<HGI:GGBIDEIBIGIIIE?G@EIH7G\r\n",
      "chr9\t106056122\tN\t88\t<<<<<<<<<C$C$C$C$C$C$C$C$C$C$C$C$C$CCCCCC$C$C$C$C$C$C$CCC$C$C$C$CC$C$CC$CC$C$C$C$C$C$C$C$C$C$C$C$C$C$CC$C$C$C$C$C$CC$CC$C$CCC$C$C$C$C$CCCCC$CCC$C\tBHEIG?DIIEEGIIC;GIHEGBIIIIB1=FII?FEIGGGHDBIG=HHIIEBHD>EIHIG=I:HGBIIEF?E;DB3HB<GIHIHHEADF\r\n",
      "chr9\t106056123\tN\t31\t<<<<<<<<<CCCCCCCCCCCCCCCCCCCCCC\tBHEIG?DIIIIII>GIGGIGGD>BIHHHIEH\r\n",
      "chr9\t106056124\tN\t31\t<<<<<<<<<AAAAAAAAAAAAAAAAAAAAAA\tBHEIG?DIIIIHIGGIGGGIG:9DDBIEGFH\r\n",
      "chr9\t106056125\tN\t31\t<<<<<<<<<GGGGGGGGGGGGGGGGGGGGGG\tBHEIG?DIIIIIIGGE@GFIGD;GIGIIFHD\r\n",
      "chr9\t106056126\tN\t30\t<<<<<<<<<GGGGGGGGGGGGGGGGGGGGG\tBHEIG?DIIIIGHGHIGHI>G;GGGIGIHG\r\n"
     ]
    }
   ],
   "source": [
    "!awk '$2 >= 106056039 && $2 <= 106056126 { print $0; }' CLIP-let7g.pileup > CLIP-let7g-gene.pileup\n",
    "!tail CLIP-let7g-gene.pileup"
   ]
  },
  {
   "cell_type": "code",
   "execution_count": 24,
   "id": "1002d898",
   "metadata": {},
   "outputs": [
    {
     "data": {
      "text/html": [
       "<div>\n",
       "<style scoped>\n",
       "    .dataframe tbody tr th:only-of-type {\n",
       "        vertical-align: middle;\n",
       "    }\n",
       "\n",
       "    .dataframe tbody tr th {\n",
       "        vertical-align: top;\n",
       "    }\n",
       "\n",
       "    .dataframe thead th {\n",
       "        text-align: right;\n",
       "    }\n",
       "</style>\n",
       "<table border=\"1\" class=\"dataframe\">\n",
       "  <thead>\n",
       "    <tr style=\"text-align: right;\">\n",
       "      <th></th>\n",
       "      <th>chrom</th>\n",
       "      <th>pos</th>\n",
       "      <th>_ref</th>\n",
       "      <th>count</th>\n",
       "      <th>basereads</th>\n",
       "      <th>quals</th>\n",
       "    </tr>\n",
       "  </thead>\n",
       "  <tbody>\n",
       "    <tr>\n",
       "      <th>83</th>\n",
       "      <td>chr9</td>\n",
       "      <td>106056122</td>\n",
       "      <td>N</td>\n",
       "      <td>88</td>\n",
       "      <td>&lt;&lt;&lt;&lt;&lt;&lt;&lt;&lt;&lt;C$C$C$C$C$C$C$C$C$C$C$C$C$CCCCCC$C$C$...</td>\n",
       "      <td>BHEIG?DIIEEGIIC;GIHEGBIIIIB1=FII?FEIGGGHDBIG=H...</td>\n",
       "    </tr>\n",
       "    <tr>\n",
       "      <th>84</th>\n",
       "      <td>chr9</td>\n",
       "      <td>106056123</td>\n",
       "      <td>N</td>\n",
       "      <td>31</td>\n",
       "      <td>&lt;&lt;&lt;&lt;&lt;&lt;&lt;&lt;&lt;CCCCCCCCCCCCCCCCCCCCCC</td>\n",
       "      <td>BHEIG?DIIIIII&gt;GIGGIGGD&gt;BIHHHIEH</td>\n",
       "    </tr>\n",
       "    <tr>\n",
       "      <th>85</th>\n",
       "      <td>chr9</td>\n",
       "      <td>106056124</td>\n",
       "      <td>N</td>\n",
       "      <td>31</td>\n",
       "      <td>&lt;&lt;&lt;&lt;&lt;&lt;&lt;&lt;&lt;AAAAAAAAAAAAAAAAAAAAAA</td>\n",
       "      <td>BHEIG?DIIIIHIGGIGGGIG:9DDBIEGFH</td>\n",
       "    </tr>\n",
       "    <tr>\n",
       "      <th>86</th>\n",
       "      <td>chr9</td>\n",
       "      <td>106056125</td>\n",
       "      <td>N</td>\n",
       "      <td>31</td>\n",
       "      <td>&lt;&lt;&lt;&lt;&lt;&lt;&lt;&lt;&lt;GGGGGGGGGGGGGGGGGGGGGG</td>\n",
       "      <td>BHEIG?DIIIIIIGGE@GFIGD;GIGIIFHD</td>\n",
       "    </tr>\n",
       "    <tr>\n",
       "      <th>87</th>\n",
       "      <td>chr9</td>\n",
       "      <td>106056126</td>\n",
       "      <td>N</td>\n",
       "      <td>30</td>\n",
       "      <td>&lt;&lt;&lt;&lt;&lt;&lt;&lt;&lt;&lt;GGGGGGGGGGGGGGGGGGGGG</td>\n",
       "      <td>BHEIG?DIIIIGHGHIGHI&gt;G;GGGIGIHG</td>\n",
       "    </tr>\n",
       "  </tbody>\n",
       "</table>\n",
       "</div>"
      ],
      "text/plain": [
       "   chrom        pos _ref  count  \\\n",
       "83  chr9  106056122    N     88   \n",
       "84  chr9  106056123    N     31   \n",
       "85  chr9  106056124    N     31   \n",
       "86  chr9  106056125    N     31   \n",
       "87  chr9  106056126    N     30   \n",
       "\n",
       "                                            basereads  \\\n",
       "83  <<<<<<<<<C$C$C$C$C$C$C$C$C$C$C$C$C$CCCCCC$C$C$...   \n",
       "84                    <<<<<<<<<CCCCCCCCCCCCCCCCCCCCCC   \n",
       "85                    <<<<<<<<<AAAAAAAAAAAAAAAAAAAAAA   \n",
       "86                    <<<<<<<<<GGGGGGGGGGGGGGGGGGGGGG   \n",
       "87                     <<<<<<<<<GGGGGGGGGGGGGGGGGGGGG   \n",
       "\n",
       "                                                quals  \n",
       "83  BHEIG?DIIEEGIIC;GIHEGBIIIIB1=FII?FEIGGGHDBIG=H...  \n",
       "84                    BHEIG?DIIIIII>GIGGIGGD>BIHHHIEH  \n",
       "85                    BHEIG?DIIIIHIGGIGGGIG:9DDBIEGFH  \n",
       "86                    BHEIG?DIIIIIIGGE@GFIGD;GIGIIFHD  \n",
       "87                     BHEIG?DIIIIGHGHIGHI>G;GGGIGIHG  "
      ]
     },
     "execution_count": 24,
     "metadata": {},
     "output_type": "execute_result"
    }
   ],
   "source": [
    "import pandas as pd\n",
    "\n",
    "pileup = pd.read_csv('CLIP-let7g-gene.pileup', sep='\\t', names=['chrom', 'pos', '_ref', 'count', 'basereads', 'quals'])\n",
    "pileup.tail()"
   ]
  },
  {
   "cell_type": "code",
   "execution_count": 26,
   "id": "2d1fff90",
   "metadata": {},
   "outputs": [],
   "source": [
    "import re\n",
    "toremove = re.compile('[<>$*#^]')\n",
    "pileup['matches'] = pileup['basereads'].apply(lambda x: toremove.sub('', x))"
   ]
  },
  {
   "cell_type": "code",
   "execution_count": 28,
   "id": "f09dc3fb",
   "metadata": {},
   "outputs": [
    {
     "data": {
      "text/html": [
       "<div>\n",
       "<style scoped>\n",
       "    .dataframe tbody tr th:only-of-type {\n",
       "        vertical-align: middle;\n",
       "    }\n",
       "\n",
       "    .dataframe tbody tr th {\n",
       "        vertical-align: top;\n",
       "    }\n",
       "\n",
       "    .dataframe thead th {\n",
       "        text-align: right;\n",
       "    }\n",
       "</style>\n",
       "<table border=\"1\" class=\"dataframe\">\n",
       "  <thead>\n",
       "    <tr style=\"text-align: right;\">\n",
       "      <th></th>\n",
       "      <th>chrom</th>\n",
       "      <th>pos</th>\n",
       "      <th>matches</th>\n",
       "    </tr>\n",
       "  </thead>\n",
       "  <tbody>\n",
       "    <tr>\n",
       "      <th>0</th>\n",
       "      <td>chr9</td>\n",
       "      <td>106056039</td>\n",
       "      <td></td>\n",
       "    </tr>\n",
       "    <tr>\n",
       "      <th>1</th>\n",
       "      <td>chr9</td>\n",
       "      <td>106056040</td>\n",
       "      <td></td>\n",
       "    </tr>\n",
       "    <tr>\n",
       "      <th>2</th>\n",
       "      <td>chr9</td>\n",
       "      <td>106056041</td>\n",
       "      <td></td>\n",
       "    </tr>\n",
       "    <tr>\n",
       "      <th>3</th>\n",
       "      <td>chr9</td>\n",
       "      <td>106056042</td>\n",
       "      <td></td>\n",
       "    </tr>\n",
       "    <tr>\n",
       "      <th>4</th>\n",
       "      <td>chr9</td>\n",
       "      <td>106056043</td>\n",
       "      <td></td>\n",
       "    </tr>\n",
       "    <tr>\n",
       "      <th>...</th>\n",
       "      <td>...</td>\n",
       "      <td>...</td>\n",
       "      <td>...</td>\n",
       "    </tr>\n",
       "    <tr>\n",
       "      <th>83</th>\n",
       "      <td>chr9</td>\n",
       "      <td>106056122</td>\n",
       "      <td>CCCCCCCCCCCCCCCCCCCCCCCCCCCCCCCCCCCCCCCCCCCCCC...</td>\n",
       "    </tr>\n",
       "    <tr>\n",
       "      <th>84</th>\n",
       "      <td>chr9</td>\n",
       "      <td>106056123</td>\n",
       "      <td>CCCCCCCCCCCCCCCCCCCCCC</td>\n",
       "    </tr>\n",
       "    <tr>\n",
       "      <th>85</th>\n",
       "      <td>chr9</td>\n",
       "      <td>106056124</td>\n",
       "      <td>AAAAAAAAAAAAAAAAAAAAAA</td>\n",
       "    </tr>\n",
       "    <tr>\n",
       "      <th>86</th>\n",
       "      <td>chr9</td>\n",
       "      <td>106056125</td>\n",
       "      <td>GGGGGGGGGGGGGGGGGGGGGG</td>\n",
       "    </tr>\n",
       "    <tr>\n",
       "      <th>87</th>\n",
       "      <td>chr9</td>\n",
       "      <td>106056126</td>\n",
       "      <td>GGGGGGGGGGGGGGGGGGGGG</td>\n",
       "    </tr>\n",
       "  </tbody>\n",
       "</table>\n",
       "<p>88 rows × 3 columns</p>\n",
       "</div>"
      ],
      "text/plain": [
       "   chrom        pos                                            matches\n",
       "0   chr9  106056039                                                   \n",
       "1   chr9  106056040                                                   \n",
       "2   chr9  106056041                                                   \n",
       "3   chr9  106056042                                                   \n",
       "4   chr9  106056043                                                   \n",
       "..   ...        ...                                                ...\n",
       "83  chr9  106056122  CCCCCCCCCCCCCCCCCCCCCCCCCCCCCCCCCCCCCCCCCCCCCC...\n",
       "84  chr9  106056123                             CCCCCCCCCCCCCCCCCCCCCC\n",
       "85  chr9  106056124                             AAAAAAAAAAAAAAAAAAAAAA\n",
       "86  chr9  106056125                             GGGGGGGGGGGGGGGGGGGGGG\n",
       "87  chr9  106056126                              GGGGGGGGGGGGGGGGGGGGG\n",
       "\n",
       "[88 rows x 3 columns]"
      ]
     },
     "execution_count": 28,
     "metadata": {},
     "output_type": "execute_result"
    }
   ],
   "source": [
    "pileup[['chrom', 'pos', 'matches']]"
   ]
  },
  {
   "cell_type": "code",
   "execution_count": 30,
   "id": "b35e498d",
   "metadata": {},
   "outputs": [
    {
     "data": {
      "text/plain": [
       "'GGGGGGAAAAAAAAGGGGGAAAAAAGCCGCAGGATGAGGTGATAAGGGAGGGGTGAAGGGCGGTGAAGGGGAAAAGAGAAAGAAAAATAAAGGGGGAGTGGGAGGAAGAAGAGAATA'"
      ]
     },
     "execution_count": 30,
     "metadata": {},
     "output_type": "execute_result"
    }
   ],
   "source": [
    "pileup[pileup['pos'] == 106056094].iloc[0]['matches']"
   ]
  },
  {
   "cell_type": "code",
   "execution_count": 31,
   "id": "260f3927",
   "metadata": {},
   "outputs": [
    {
     "name": "stdout",
     "output_type": "stream",
     "text": [
      "CLIP-35L33G.bam\t\tguided_mission1.ipynb\t RNA-siLuc.bam\r\n",
      "CLIP-35L33G.bam.bai\tread-counts.txt\t\t RNA-siLuc.bam.bai\r\n",
      "CLIP-let7g.bam\t\tread-counts.txt.summary  RPF-siLin28a.bam\r\n",
      "CLIP-let7g-gene.pileup\tRNA-control.bam\t\t RPF-siLin28a.bam.bai\r\n",
      "CLIP-let7g.pileup\tRNA-control.bam.bai\t RPF-siLuc.bam\r\n",
      "gencode.gtf\t\tRNA-siLin28a.bam\t RPF-siLuc.bam.bai\r\n",
      "gencode.gtf.gz\t\tRNA-siLin28a.bam.bai\t transfer\r\n"
     ]
    }
   ],
   "source": [
    "!ls"
   ]
  },
  {
   "cell_type": "code",
   "execution_count": 33,
   "id": "2c97f912",
   "metadata": {},
   "outputs": [],
   "source": [
    "import pandas as pd\n",
    "import re"
   ]
  },
  {
   "cell_type": "code",
   "execution_count": 36,
   "id": "133e1efe",
   "metadata": {},
   "outputs": [],
   "source": [
    "pileup = pd.read_csv('CLIP-let7g-gene.pileup', sep='\\t', names=['chrom', 'pos', '_ref', 'count', 'basereads', 'quals'])"
   ]
  },
  {
   "cell_type": "code",
   "execution_count": 38,
   "id": "961af4cf",
   "metadata": {},
   "outputs": [],
   "source": [
    "# clean up 수행하기\n",
    "\n",
    "toremove = re.compile('[<>$*#^]')\n",
    "pileup['matches'] = pileup['basereads'].apply(lambda x: toremove.sub('', x))"
   ]
  },
  {
   "cell_type": "code",
   "execution_count": 40,
   "id": "e7be02d1",
   "metadata": {},
   "outputs": [],
   "source": [
    "\n",
    "# function to count bases\n",
    "\n",
    "def count_bases(reads):\n",
    "    base_count = {'A': 0, 'T': 0, 'C': 0, 'G': 0}\n",
    "    for base in reads:\n",
    "        if base in base_count:\n",
    "            base_count[base] += 1\n",
    "    return base_count\n",
    "\n",
    "pileup['base_counts'] = pileup['matches'].apply(count_bases)\n"
   ]
  },
  {
   "cell_type": "code",
   "execution_count": 42,
   "id": "fe1f05ab",
   "metadata": {},
   "outputs": [],
   "source": [
    "pileup['base_counts'] = pileup['matches'].apply(count_bases)"
   ]
  },
  {
   "cell_type": "code",
   "execution_count": 44,
   "id": "0cadfee2",
   "metadata": {},
   "outputs": [
    {
     "data": {
      "text/html": [
       "<div>\n",
       "<style scoped>\n",
       "    .dataframe tbody tr th:only-of-type {\n",
       "        vertical-align: middle;\n",
       "    }\n",
       "\n",
       "    .dataframe tbody tr th {\n",
       "        vertical-align: top;\n",
       "    }\n",
       "\n",
       "    .dataframe thead th {\n",
       "        text-align: right;\n",
       "    }\n",
       "</style>\n",
       "<table border=\"1\" class=\"dataframe\">\n",
       "  <thead>\n",
       "    <tr style=\"text-align: right;\">\n",
       "      <th></th>\n",
       "      <th>chrom</th>\n",
       "      <th>pos</th>\n",
       "      <th>_ref</th>\n",
       "      <th>count</th>\n",
       "      <th>basereads</th>\n",
       "      <th>quals</th>\n",
       "      <th>matches</th>\n",
       "      <th>base_counts</th>\n",
       "    </tr>\n",
       "  </thead>\n",
       "  <tbody>\n",
       "    <tr>\n",
       "      <th>0</th>\n",
       "      <td>chr9</td>\n",
       "      <td>106056039</td>\n",
       "      <td>N</td>\n",
       "      <td>9</td>\n",
       "      <td>&lt;&lt;&lt;&lt;&lt;&lt;&lt;&lt;&lt;</td>\n",
       "      <td>BHEIG?DII</td>\n",
       "      <td></td>\n",
       "      <td>{'A': 0, 'T': 0, 'C': 0, 'G': 0}</td>\n",
       "    </tr>\n",
       "    <tr>\n",
       "      <th>1</th>\n",
       "      <td>chr9</td>\n",
       "      <td>106056040</td>\n",
       "      <td>N</td>\n",
       "      <td>9</td>\n",
       "      <td>&lt;&lt;&lt;&lt;&lt;&lt;&lt;&lt;&lt;</td>\n",
       "      <td>BHEIG?DII</td>\n",
       "      <td></td>\n",
       "      <td>{'A': 0, 'T': 0, 'C': 0, 'G': 0}</td>\n",
       "    </tr>\n",
       "    <tr>\n",
       "      <th>2</th>\n",
       "      <td>chr9</td>\n",
       "      <td>106056041</td>\n",
       "      <td>N</td>\n",
       "      <td>9</td>\n",
       "      <td>&lt;&lt;&lt;&lt;&lt;&lt;&lt;&lt;&lt;</td>\n",
       "      <td>BHEIG?DII</td>\n",
       "      <td></td>\n",
       "      <td>{'A': 0, 'T': 0, 'C': 0, 'G': 0}</td>\n",
       "    </tr>\n",
       "    <tr>\n",
       "      <th>3</th>\n",
       "      <td>chr9</td>\n",
       "      <td>106056042</td>\n",
       "      <td>N</td>\n",
       "      <td>9</td>\n",
       "      <td>&lt;&lt;&lt;&lt;&lt;&lt;&lt;&lt;&lt;</td>\n",
       "      <td>BHEIG?DII</td>\n",
       "      <td></td>\n",
       "      <td>{'A': 0, 'T': 0, 'C': 0, 'G': 0}</td>\n",
       "    </tr>\n",
       "    <tr>\n",
       "      <th>4</th>\n",
       "      <td>chr9</td>\n",
       "      <td>106056043</td>\n",
       "      <td>N</td>\n",
       "      <td>9</td>\n",
       "      <td>&lt;&lt;&lt;&lt;&lt;&lt;&lt;&lt;&lt;</td>\n",
       "      <td>BHEIG?DII</td>\n",
       "      <td></td>\n",
       "      <td>{'A': 0, 'T': 0, 'C': 0, 'G': 0}</td>\n",
       "    </tr>\n",
       "    <tr>\n",
       "      <th>...</th>\n",
       "      <td>...</td>\n",
       "      <td>...</td>\n",
       "      <td>...</td>\n",
       "      <td>...</td>\n",
       "      <td>...</td>\n",
       "      <td>...</td>\n",
       "      <td>...</td>\n",
       "      <td>...</td>\n",
       "    </tr>\n",
       "    <tr>\n",
       "      <th>83</th>\n",
       "      <td>chr9</td>\n",
       "      <td>106056122</td>\n",
       "      <td>N</td>\n",
       "      <td>88</td>\n",
       "      <td>&lt;&lt;&lt;&lt;&lt;&lt;&lt;&lt;&lt;C$C$C$C$C$C$C$C$C$C$C$C$C$CCCCCC$C$C$...</td>\n",
       "      <td>BHEIG?DIIEEGIIC;GIHEGBIIIIB1=FII?FEIGGGHDBIG=H...</td>\n",
       "      <td>CCCCCCCCCCCCCCCCCCCCCCCCCCCCCCCCCCCCCCCCCCCCCC...</td>\n",
       "      <td>{'A': 0, 'T': 0, 'C': 79, 'G': 0}</td>\n",
       "    </tr>\n",
       "    <tr>\n",
       "      <th>84</th>\n",
       "      <td>chr9</td>\n",
       "      <td>106056123</td>\n",
       "      <td>N</td>\n",
       "      <td>31</td>\n",
       "      <td>&lt;&lt;&lt;&lt;&lt;&lt;&lt;&lt;&lt;CCCCCCCCCCCCCCCCCCCCCC</td>\n",
       "      <td>BHEIG?DIIIIII&gt;GIGGIGGD&gt;BIHHHIEH</td>\n",
       "      <td>CCCCCCCCCCCCCCCCCCCCCC</td>\n",
       "      <td>{'A': 0, 'T': 0, 'C': 22, 'G': 0}</td>\n",
       "    </tr>\n",
       "    <tr>\n",
       "      <th>85</th>\n",
       "      <td>chr9</td>\n",
       "      <td>106056124</td>\n",
       "      <td>N</td>\n",
       "      <td>31</td>\n",
       "      <td>&lt;&lt;&lt;&lt;&lt;&lt;&lt;&lt;&lt;AAAAAAAAAAAAAAAAAAAAAA</td>\n",
       "      <td>BHEIG?DIIIIHIGGIGGGIG:9DDBIEGFH</td>\n",
       "      <td>AAAAAAAAAAAAAAAAAAAAAA</td>\n",
       "      <td>{'A': 22, 'T': 0, 'C': 0, 'G': 0}</td>\n",
       "    </tr>\n",
       "    <tr>\n",
       "      <th>86</th>\n",
       "      <td>chr9</td>\n",
       "      <td>106056125</td>\n",
       "      <td>N</td>\n",
       "      <td>31</td>\n",
       "      <td>&lt;&lt;&lt;&lt;&lt;&lt;&lt;&lt;&lt;GGGGGGGGGGGGGGGGGGGGGG</td>\n",
       "      <td>BHEIG?DIIIIIIGGE@GFIGD;GIGIIFHD</td>\n",
       "      <td>GGGGGGGGGGGGGGGGGGGGGG</td>\n",
       "      <td>{'A': 0, 'T': 0, 'C': 0, 'G': 22}</td>\n",
       "    </tr>\n",
       "    <tr>\n",
       "      <th>87</th>\n",
       "      <td>chr9</td>\n",
       "      <td>106056126</td>\n",
       "      <td>N</td>\n",
       "      <td>30</td>\n",
       "      <td>&lt;&lt;&lt;&lt;&lt;&lt;&lt;&lt;&lt;GGGGGGGGGGGGGGGGGGGGG</td>\n",
       "      <td>BHEIG?DIIIIGHGHIGHI&gt;G;GGGIGIHG</td>\n",
       "      <td>GGGGGGGGGGGGGGGGGGGGG</td>\n",
       "      <td>{'A': 0, 'T': 0, 'C': 0, 'G': 21}</td>\n",
       "    </tr>\n",
       "  </tbody>\n",
       "</table>\n",
       "<p>88 rows × 8 columns</p>\n",
       "</div>"
      ],
      "text/plain": [
       "   chrom        pos _ref  count  \\\n",
       "0   chr9  106056039    N      9   \n",
       "1   chr9  106056040    N      9   \n",
       "2   chr9  106056041    N      9   \n",
       "3   chr9  106056042    N      9   \n",
       "4   chr9  106056043    N      9   \n",
       "..   ...        ...  ...    ...   \n",
       "83  chr9  106056122    N     88   \n",
       "84  chr9  106056123    N     31   \n",
       "85  chr9  106056124    N     31   \n",
       "86  chr9  106056125    N     31   \n",
       "87  chr9  106056126    N     30   \n",
       "\n",
       "                                            basereads  \\\n",
       "0                                           <<<<<<<<<   \n",
       "1                                           <<<<<<<<<   \n",
       "2                                           <<<<<<<<<   \n",
       "3                                           <<<<<<<<<   \n",
       "4                                           <<<<<<<<<   \n",
       "..                                                ...   \n",
       "83  <<<<<<<<<C$C$C$C$C$C$C$C$C$C$C$C$C$CCCCCC$C$C$...   \n",
       "84                    <<<<<<<<<CCCCCCCCCCCCCCCCCCCCCC   \n",
       "85                    <<<<<<<<<AAAAAAAAAAAAAAAAAAAAAA   \n",
       "86                    <<<<<<<<<GGGGGGGGGGGGGGGGGGGGGG   \n",
       "87                     <<<<<<<<<GGGGGGGGGGGGGGGGGGGGG   \n",
       "\n",
       "                                                quals  \\\n",
       "0                                           BHEIG?DII   \n",
       "1                                           BHEIG?DII   \n",
       "2                                           BHEIG?DII   \n",
       "3                                           BHEIG?DII   \n",
       "4                                           BHEIG?DII   \n",
       "..                                                ...   \n",
       "83  BHEIG?DIIEEGIIC;GIHEGBIIIIB1=FII?FEIGGGHDBIG=H...   \n",
       "84                    BHEIG?DIIIIII>GIGGIGGD>BIHHHIEH   \n",
       "85                    BHEIG?DIIIIHIGGIGGGIG:9DDBIEGFH   \n",
       "86                    BHEIG?DIIIIIIGGE@GFIGD;GIGIIFHD   \n",
       "87                     BHEIG?DIIIIGHGHIGHI>G;GGGIGIHG   \n",
       "\n",
       "                                              matches  \\\n",
       "0                                                       \n",
       "1                                                       \n",
       "2                                                       \n",
       "3                                                       \n",
       "4                                                       \n",
       "..                                                ...   \n",
       "83  CCCCCCCCCCCCCCCCCCCCCCCCCCCCCCCCCCCCCCCCCCCCCC...   \n",
       "84                             CCCCCCCCCCCCCCCCCCCCCC   \n",
       "85                             AAAAAAAAAAAAAAAAAAAAAA   \n",
       "86                             GGGGGGGGGGGGGGGGGGGGGG   \n",
       "87                              GGGGGGGGGGGGGGGGGGGGG   \n",
       "\n",
       "                          base_counts  \n",
       "0    {'A': 0, 'T': 0, 'C': 0, 'G': 0}  \n",
       "1    {'A': 0, 'T': 0, 'C': 0, 'G': 0}  \n",
       "2    {'A': 0, 'T': 0, 'C': 0, 'G': 0}  \n",
       "3    {'A': 0, 'T': 0, 'C': 0, 'G': 0}  \n",
       "4    {'A': 0, 'T': 0, 'C': 0, 'G': 0}  \n",
       "..                                ...  \n",
       "83  {'A': 0, 'T': 0, 'C': 79, 'G': 0}  \n",
       "84  {'A': 0, 'T': 0, 'C': 22, 'G': 0}  \n",
       "85  {'A': 22, 'T': 0, 'C': 0, 'G': 0}  \n",
       "86  {'A': 0, 'T': 0, 'C': 0, 'G': 22}  \n",
       "87  {'A': 0, 'T': 0, 'C': 0, 'G': 21}  \n",
       "\n",
       "[88 rows x 8 columns]"
      ]
     },
     "execution_count": 44,
     "metadata": {},
     "output_type": "execute_result"
    }
   ],
   "source": [
    "pileup"
   ]
  },
  {
   "cell_type": "code",
   "execution_count": 46,
   "id": "86b7f002",
   "metadata": {},
   "outputs": [],
   "source": [
    "# 2. Shanno Entropy\n",
    "\n",
    "import math\n",
    "\n",
    "def shannon_entropy(base_count):\n",
    "    total = sum(base_count.values())\n",
    "    entropy = 0\n",
    "    for count in base_count.values():\n",
    "        if count > 0:\n",
    "            p = count / total\n",
    "            entropy -= p * math.log2(p)\n",
    "    return entropy\n",
    "\n",
    "pileup['entropy'] = pileup['base_counts'].apply(shannon_entropy)"
   ]
  },
  {
   "cell_type": "code",
   "execution_count": 49,
   "id": "99052b72",
   "metadata": {},
   "outputs": [
    {
     "data": {
      "text/html": [
       "<div>\n",
       "<style scoped>\n",
       "    .dataframe tbody tr th:only-of-type {\n",
       "        vertical-align: middle;\n",
       "    }\n",
       "\n",
       "    .dataframe tbody tr th {\n",
       "        vertical-align: top;\n",
       "    }\n",
       "\n",
       "    .dataframe thead th {\n",
       "        text-align: right;\n",
       "    }\n",
       "</style>\n",
       "<table border=\"1\" class=\"dataframe\">\n",
       "  <thead>\n",
       "    <tr style=\"text-align: right;\">\n",
       "      <th></th>\n",
       "      <th>chrom</th>\n",
       "      <th>pos</th>\n",
       "      <th>_ref</th>\n",
       "      <th>count</th>\n",
       "      <th>basereads</th>\n",
       "      <th>quals</th>\n",
       "      <th>matches</th>\n",
       "      <th>base_counts</th>\n",
       "      <th>entropy</th>\n",
       "    </tr>\n",
       "  </thead>\n",
       "  <tbody>\n",
       "    <tr>\n",
       "      <th>0</th>\n",
       "      <td>chr9</td>\n",
       "      <td>106056039</td>\n",
       "      <td>N</td>\n",
       "      <td>9</td>\n",
       "      <td>&lt;&lt;&lt;&lt;&lt;&lt;&lt;&lt;&lt;</td>\n",
       "      <td>BHEIG?DII</td>\n",
       "      <td></td>\n",
       "      <td>{'A': 0, 'T': 0, 'C': 0, 'G': 0}</td>\n",
       "      <td>0.0</td>\n",
       "    </tr>\n",
       "    <tr>\n",
       "      <th>1</th>\n",
       "      <td>chr9</td>\n",
       "      <td>106056040</td>\n",
       "      <td>N</td>\n",
       "      <td>9</td>\n",
       "      <td>&lt;&lt;&lt;&lt;&lt;&lt;&lt;&lt;&lt;</td>\n",
       "      <td>BHEIG?DII</td>\n",
       "      <td></td>\n",
       "      <td>{'A': 0, 'T': 0, 'C': 0, 'G': 0}</td>\n",
       "      <td>0.0</td>\n",
       "    </tr>\n",
       "    <tr>\n",
       "      <th>2</th>\n",
       "      <td>chr9</td>\n",
       "      <td>106056041</td>\n",
       "      <td>N</td>\n",
       "      <td>9</td>\n",
       "      <td>&lt;&lt;&lt;&lt;&lt;&lt;&lt;&lt;&lt;</td>\n",
       "      <td>BHEIG?DII</td>\n",
       "      <td></td>\n",
       "      <td>{'A': 0, 'T': 0, 'C': 0, 'G': 0}</td>\n",
       "      <td>0.0</td>\n",
       "    </tr>\n",
       "    <tr>\n",
       "      <th>3</th>\n",
       "      <td>chr9</td>\n",
       "      <td>106056042</td>\n",
       "      <td>N</td>\n",
       "      <td>9</td>\n",
       "      <td>&lt;&lt;&lt;&lt;&lt;&lt;&lt;&lt;&lt;</td>\n",
       "      <td>BHEIG?DII</td>\n",
       "      <td></td>\n",
       "      <td>{'A': 0, 'T': 0, 'C': 0, 'G': 0}</td>\n",
       "      <td>0.0</td>\n",
       "    </tr>\n",
       "    <tr>\n",
       "      <th>4</th>\n",
       "      <td>chr9</td>\n",
       "      <td>106056043</td>\n",
       "      <td>N</td>\n",
       "      <td>9</td>\n",
       "      <td>&lt;&lt;&lt;&lt;&lt;&lt;&lt;&lt;&lt;</td>\n",
       "      <td>BHEIG?DII</td>\n",
       "      <td></td>\n",
       "      <td>{'A': 0, 'T': 0, 'C': 0, 'G': 0}</td>\n",
       "      <td>0.0</td>\n",
       "    </tr>\n",
       "    <tr>\n",
       "      <th>...</th>\n",
       "      <td>...</td>\n",
       "      <td>...</td>\n",
       "      <td>...</td>\n",
       "      <td>...</td>\n",
       "      <td>...</td>\n",
       "      <td>...</td>\n",
       "      <td>...</td>\n",
       "      <td>...</td>\n",
       "      <td>...</td>\n",
       "    </tr>\n",
       "    <tr>\n",
       "      <th>83</th>\n",
       "      <td>chr9</td>\n",
       "      <td>106056122</td>\n",
       "      <td>N</td>\n",
       "      <td>88</td>\n",
       "      <td>&lt;&lt;&lt;&lt;&lt;&lt;&lt;&lt;&lt;C$C$C$C$C$C$C$C$C$C$C$C$C$CCCCCC$C$C$...</td>\n",
       "      <td>BHEIG?DIIEEGIIC;GIHEGBIIIIB1=FII?FEIGGGHDBIG=H...</td>\n",
       "      <td>CCCCCCCCCCCCCCCCCCCCCCCCCCCCCCCCCCCCCCCCCCCCCC...</td>\n",
       "      <td>{'A': 0, 'T': 0, 'C': 79, 'G': 0}</td>\n",
       "      <td>0.0</td>\n",
       "    </tr>\n",
       "    <tr>\n",
       "      <th>84</th>\n",
       "      <td>chr9</td>\n",
       "      <td>106056123</td>\n",
       "      <td>N</td>\n",
       "      <td>31</td>\n",
       "      <td>&lt;&lt;&lt;&lt;&lt;&lt;&lt;&lt;&lt;CCCCCCCCCCCCCCCCCCCCCC</td>\n",
       "      <td>BHEIG?DIIIIII&gt;GIGGIGGD&gt;BIHHHIEH</td>\n",
       "      <td>CCCCCCCCCCCCCCCCCCCCCC</td>\n",
       "      <td>{'A': 0, 'T': 0, 'C': 22, 'G': 0}</td>\n",
       "      <td>0.0</td>\n",
       "    </tr>\n",
       "    <tr>\n",
       "      <th>85</th>\n",
       "      <td>chr9</td>\n",
       "      <td>106056124</td>\n",
       "      <td>N</td>\n",
       "      <td>31</td>\n",
       "      <td>&lt;&lt;&lt;&lt;&lt;&lt;&lt;&lt;&lt;AAAAAAAAAAAAAAAAAAAAAA</td>\n",
       "      <td>BHEIG?DIIIIHIGGIGGGIG:9DDBIEGFH</td>\n",
       "      <td>AAAAAAAAAAAAAAAAAAAAAA</td>\n",
       "      <td>{'A': 22, 'T': 0, 'C': 0, 'G': 0}</td>\n",
       "      <td>0.0</td>\n",
       "    </tr>\n",
       "    <tr>\n",
       "      <th>86</th>\n",
       "      <td>chr9</td>\n",
       "      <td>106056125</td>\n",
       "      <td>N</td>\n",
       "      <td>31</td>\n",
       "      <td>&lt;&lt;&lt;&lt;&lt;&lt;&lt;&lt;&lt;GGGGGGGGGGGGGGGGGGGGGG</td>\n",
       "      <td>BHEIG?DIIIIIIGGE@GFIGD;GIGIIFHD</td>\n",
       "      <td>GGGGGGGGGGGGGGGGGGGGGG</td>\n",
       "      <td>{'A': 0, 'T': 0, 'C': 0, 'G': 22}</td>\n",
       "      <td>0.0</td>\n",
       "    </tr>\n",
       "    <tr>\n",
       "      <th>87</th>\n",
       "      <td>chr9</td>\n",
       "      <td>106056126</td>\n",
       "      <td>N</td>\n",
       "      <td>30</td>\n",
       "      <td>&lt;&lt;&lt;&lt;&lt;&lt;&lt;&lt;&lt;GGGGGGGGGGGGGGGGGGGGG</td>\n",
       "      <td>BHEIG?DIIIIGHGHIGHI&gt;G;GGGIGIHG</td>\n",
       "      <td>GGGGGGGGGGGGGGGGGGGGG</td>\n",
       "      <td>{'A': 0, 'T': 0, 'C': 0, 'G': 21}</td>\n",
       "      <td>0.0</td>\n",
       "    </tr>\n",
       "  </tbody>\n",
       "</table>\n",
       "<p>88 rows × 9 columns</p>\n",
       "</div>"
      ],
      "text/plain": [
       "   chrom        pos _ref  count  \\\n",
       "0   chr9  106056039    N      9   \n",
       "1   chr9  106056040    N      9   \n",
       "2   chr9  106056041    N      9   \n",
       "3   chr9  106056042    N      9   \n",
       "4   chr9  106056043    N      9   \n",
       "..   ...        ...  ...    ...   \n",
       "83  chr9  106056122    N     88   \n",
       "84  chr9  106056123    N     31   \n",
       "85  chr9  106056124    N     31   \n",
       "86  chr9  106056125    N     31   \n",
       "87  chr9  106056126    N     30   \n",
       "\n",
       "                                            basereads  \\\n",
       "0                                           <<<<<<<<<   \n",
       "1                                           <<<<<<<<<   \n",
       "2                                           <<<<<<<<<   \n",
       "3                                           <<<<<<<<<   \n",
       "4                                           <<<<<<<<<   \n",
       "..                                                ...   \n",
       "83  <<<<<<<<<C$C$C$C$C$C$C$C$C$C$C$C$C$CCCCCC$C$C$...   \n",
       "84                    <<<<<<<<<CCCCCCCCCCCCCCCCCCCCCC   \n",
       "85                    <<<<<<<<<AAAAAAAAAAAAAAAAAAAAAA   \n",
       "86                    <<<<<<<<<GGGGGGGGGGGGGGGGGGGGGG   \n",
       "87                     <<<<<<<<<GGGGGGGGGGGGGGGGGGGGG   \n",
       "\n",
       "                                                quals  \\\n",
       "0                                           BHEIG?DII   \n",
       "1                                           BHEIG?DII   \n",
       "2                                           BHEIG?DII   \n",
       "3                                           BHEIG?DII   \n",
       "4                                           BHEIG?DII   \n",
       "..                                                ...   \n",
       "83  BHEIG?DIIEEGIIC;GIHEGBIIIIB1=FII?FEIGGGHDBIG=H...   \n",
       "84                    BHEIG?DIIIIII>GIGGIGGD>BIHHHIEH   \n",
       "85                    BHEIG?DIIIIHIGGIGGGIG:9DDBIEGFH   \n",
       "86                    BHEIG?DIIIIIIGGE@GFIGD;GIGIIFHD   \n",
       "87                     BHEIG?DIIIIGHGHIGHI>G;GGGIGIHG   \n",
       "\n",
       "                                              matches  \\\n",
       "0                                                       \n",
       "1                                                       \n",
       "2                                                       \n",
       "3                                                       \n",
       "4                                                       \n",
       "..                                                ...   \n",
       "83  CCCCCCCCCCCCCCCCCCCCCCCCCCCCCCCCCCCCCCCCCCCCCC...   \n",
       "84                             CCCCCCCCCCCCCCCCCCCCCC   \n",
       "85                             AAAAAAAAAAAAAAAAAAAAAA   \n",
       "86                             GGGGGGGGGGGGGGGGGGGGGG   \n",
       "87                              GGGGGGGGGGGGGGGGGGGGG   \n",
       "\n",
       "                          base_counts  entropy  \n",
       "0    {'A': 0, 'T': 0, 'C': 0, 'G': 0}      0.0  \n",
       "1    {'A': 0, 'T': 0, 'C': 0, 'G': 0}      0.0  \n",
       "2    {'A': 0, 'T': 0, 'C': 0, 'G': 0}      0.0  \n",
       "3    {'A': 0, 'T': 0, 'C': 0, 'G': 0}      0.0  \n",
       "4    {'A': 0, 'T': 0, 'C': 0, 'G': 0}      0.0  \n",
       "..                                ...      ...  \n",
       "83  {'A': 0, 'T': 0, 'C': 79, 'G': 0}      0.0  \n",
       "84  {'A': 0, 'T': 0, 'C': 22, 'G': 0}      0.0  \n",
       "85  {'A': 22, 'T': 0, 'C': 0, 'G': 0}      0.0  \n",
       "86  {'A': 0, 'T': 0, 'C': 0, 'G': 22}      0.0  \n",
       "87  {'A': 0, 'T': 0, 'C': 0, 'G': 21}      0.0  \n",
       "\n",
       "[88 rows x 9 columns]"
      ]
     },
     "execution_count": 49,
     "metadata": {},
     "output_type": "execute_result"
    }
   ],
   "source": [
    "pileup"
   ]
  },
  {
   "cell_type": "code",
   "execution_count": 51,
   "id": "439692da",
   "metadata": {},
   "outputs": [
    {
     "name": "stdout",
     "output_type": "stream",
     "text": [
      "         pos   entropy\n",
      "0  106056039  0.000000\n",
      "1  106056040  0.000000\n",
      "2  106056041  0.000000\n",
      "3  106056042  0.000000\n",
      "4  106056043  0.000000\n",
      "5  106056044  0.000000\n",
      "6  106056045  0.676942\n",
      "7  106056046  0.000000\n",
      "8  106056047  0.000000\n",
      "9  106056048  0.000000\n"
     ]
    }
   ],
   "source": [
    "print(pileup.iloc[:10][['pos', 'entropy']])"
   ]
  },
  {
   "cell_type": "code",
   "execution_count": 55,
   "id": "713cb381",
   "metadata": {},
   "outputs": [],
   "source": [
    "bedgraph_data = pileup[['chrom', 'pos', 'pos', 'entropy']]\n",
    "bedgraph_data.columns = ['chrom', 'start', 'end', 'value']"
   ]
  },
  {
   "cell_type": "code",
   "execution_count": 58,
   "id": "f0fbe78c",
   "metadata": {},
   "outputs": [
    {
     "name": "stdout",
     "output_type": "stream",
     "text": [
      "   chrom      start        end  value\n",
      "0   chr9  106056039  106056039    0.0\n",
      "1   chr9  106056040  106056040    0.0\n",
      "2   chr9  106056041  106056041    0.0\n",
      "3   chr9  106056042  106056042    0.0\n",
      "4   chr9  106056043  106056043    0.0\n",
      "..   ...        ...        ...    ...\n",
      "83  chr9  106056122  106056122    0.0\n",
      "84  chr9  106056123  106056123    0.0\n",
      "85  chr9  106056124  106056124    0.0\n",
      "86  chr9  106056125  106056125    0.0\n",
      "87  chr9  106056126  106056126    0.0\n",
      "\n",
      "[88 rows x 4 columns]\n"
     ]
    }
   ],
   "source": [
    "print(bedgraph_data)"
   ]
  },
  {
   "cell_type": "code",
   "execution_count": 61,
   "id": "2ff1b6a9",
   "metadata": {},
   "outputs": [
    {
     "name": "stdout",
     "output_type": "stream",
     "text": [
      "BedGraph file saved as 'shannon_entropy.bedgraph'\n"
     ]
    }
   ],
   "source": [
    "bedgraph_data.to_csv('shannon_entropy.bedgraph', sep='\\t', header=False, index=False)\n",
    "print(\"BedGraph file saved as 'shannon_entropy.bedgraph'\")"
   ]
  },
  {
   "cell_type": "code",
   "execution_count": 65,
   "id": "e08a1d79",
   "metadata": {
    "scrolled": true
   },
   "outputs": [
    {
     "name": "stdout",
     "output_type": "stream",
     "text": [
      "/home/ssoyik7239/bioinfo_snu/bioinfo_project/guided_mission1/binfo1-datapack1\r\n"
     ]
    }
   ],
   "source": [
    "!pwd"
   ]
  },
  {
   "cell_type": "code",
   "execution_count": 69,
   "id": "84be77fd",
   "metadata": {
    "scrolled": true
   },
   "outputs": [
    {
     "name": "stdout",
     "output_type": "stream",
     "text": [
      "CLIP-35L33G.bam\t\tguided_mission1.ipynb\t RNA-siLuc.bam.bai\r\n",
      "CLIP-35L33G.bam.bai\tread-counts.txt\t\t RPF-siLin28a.bam\r\n",
      "CLIP-let7d.pileup\tread-counts.txt.summary  RPF-siLin28a.bam.bai\r\n",
      "CLIP-let7g.bam\t\tRNA-control.bam\t\t RPF-siLuc.bam\r\n",
      "CLIP-let7g-gene.pileup\tRNA-control.bam.bai\t RPF-siLuc.bam.bai\r\n",
      "CLIP-let7g.pileup\tRNA-siLin28a.bam\t shannon_entropy.bedgraph\r\n",
      "gencode.gtf\t\tRNA-siLin28a.bam.bai\t transfer\r\n",
      "gencode.gtf.gz\t\tRNA-siLuc.bam\r\n"
     ]
    }
   ],
   "source": [
    "!ls"
   ]
  },
  {
   "cell_type": "code",
   "execution_count": 71,
   "id": "309ab719",
   "metadata": {
    "scrolled": true
   },
   "outputs": [
    {
     "name": "stdout",
     "output_type": "stream",
     "text": [
      "chr13\tENSEMBL\tgene\t48689488\t48689590\t.\t-\t.\tgene_id \"ENSMUSG00000065453.3\"; gene_type \"miRNA\"; gene_name \"Mirlet7d\"; level 3; mgi_id \"MGI:2676796\";\r\n",
      "chr13\tENSEMBL\ttranscript\t48689488\t48689590\t.\t-\t.\tgene_id \"ENSMUSG00000065453.3\"; transcript_id \"ENSMUST00000083519.3\"; gene_type \"miRNA\"; gene_name \"Mirlet7d\"; transcript_type \"miRNA\"; transcript_name \"Mirlet7d-201\"; level 3; transcript_support_level \"NA\"; mgi_id \"MGI:2676796\"; tag \"basic\";\r\n",
      "chr13\tENSEMBL\texon\t48689488\t48689590\t.\t-\t.\tgene_id \"ENSMUSG00000065453.3\"; transcript_id \"ENSMUST00000083519.3\"; gene_type \"miRNA\"; gene_name \"Mirlet7d\"; transcript_type \"miRNA\"; transcript_name \"Mirlet7d-201\"; exon_number 1; exon_id \"ENSMUSE00000522678.2\"; level 3; transcript_support_level \"NA\"; mgi_id \"MGI:2676796\"; tag \"basic\";\r\n"
     ]
    }
   ],
   "source": [
    "!grep -i mirlet7d ./gencode.gtf"
   ]
  },
  {
   "cell_type": "code",
   "execution_count": 72,
   "id": "3b28144d",
   "metadata": {},
   "outputs": [
    {
     "name": "stdout",
     "output_type": "stream",
     "text": [
      "chr13\tENSEMBL\tgene\t48691305\t48691393\t.\t-\t.\tgene_id \"ENSMUSG00000105621.3\"; gene_type \"miRNA\"; gene_name \"Mirlet7f-1\"; level 3; mgi_id \"MGI:2676798\";\r\n",
      "chr13\tENSEMBL\ttranscript\t48691305\t48691393\t.\t-\t.\tgene_id \"ENSMUSG00000105621.3\"; transcript_id \"ENSMUST00000198652.3\"; gene_type \"miRNA\"; gene_name \"Mirlet7f-1\"; transcript_type \"miRNA\"; transcript_name \"Mirlet7f-1-201\"; level 3; transcript_support_level \"NA\"; mgi_id \"MGI:2676798\"; tag \"basic\";\r\n",
      "chr13\tENSEMBL\texon\t48691305\t48691393\t.\t-\t.\tgene_id \"ENSMUSG00000105621.3\"; transcript_id \"ENSMUST00000198652.3\"; gene_type \"miRNA\"; gene_name \"Mirlet7f-1\"; transcript_type \"miRNA\"; transcript_name \"Mirlet7f-1-201\"; exon_number 1; exon_id \"ENSMUSE00001348852.2\"; level 3; transcript_support_level \"NA\"; mgi_id \"MGI:2676798\"; tag \"basic\";\r\n"
     ]
    }
   ],
   "source": [
    "!grep -i mirlet7f-1 ./gencode.gtf"
   ]
  },
  {
   "cell_type": "code",
   "execution_count": 77,
   "id": "8d61d3e3",
   "metadata": {
    "scrolled": false
   },
   "outputs": [
    {
     "name": "stdout",
     "output_type": "stream",
     "text": [
      "[mpileup] 1 samples in 1 input files\n",
      "[mpileup] 1 samples in 1 input files\n"
     ]
    }
   ],
   "source": [
    "!samtools view -b -o CLIP-let7d.bam ./CLIP-35L33G.bam chr13:48689488-48689590\n",
    "!samtools view -b -o CLIP-let7f-1.bam ./CLIP-35L33G.bam chr13:48691305-48691393\n",
    "\n",
    "!samtools mpileup CLIP-let7d.bam > CLIP-let7d.pileup\n",
    "!samtools mpileup CLIP-let7f-1.bam > CLIP-let7f-1.pileup"
   ]
  },
  {
   "cell_type": "code",
   "execution_count": 78,
   "id": "e04c595a",
   "metadata": {},
   "outputs": [
    {
     "name": "stdout",
     "output_type": "stream",
     "text": [
      "   chrom     start       end  value\n",
      "0  chr13  48689488  48689489    0.0\n",
      "1  chr13  48689489  48689490    0.0\n",
      "2  chr13  48689490  48689491    0.0\n",
      "3  chr13  48689491  48689492    0.0\n",
      "4  chr13  48689492  48689493    0.0\n",
      "5  chr13  48689493  48689494    0.0\n",
      "6  chr13  48689494  48689495    0.0\n",
      "7  chr13  48689495  48689496    0.0\n",
      "8  chr13  48689496  48689497    0.0\n",
      "9  chr13  48689497  48689498    0.0\n"
     ]
    }
   ],
   "source": [
    "import pandas as pd\n",
    "import re\n",
    "import math\n",
    "\n",
    "def count_bases(reads):\n",
    "    base_count = {'A': 0, 'T': 0, 'C': 0, 'G': 0}\n",
    "    for base in reads:\n",
    "        if base in base_count:\n",
    "            base_count[base] += 1\n",
    "    return base_count\n",
    "\n",
    "def shannon_entropy(base_count):\n",
    "    total = sum(base_count.values())\n",
    "    entropy = 0\n",
    "    for count in base_count.values():\n",
    "        if count > 0:\n",
    "            p = count / total\n",
    "            entropy -= p * math.log2(p)\n",
    "    return entropy\n",
    "\n",
    "pileup_d = pd.read_csv('CLIP-let7d.pileup', sep='\\t', names=['chrom', 'pos', '_ref', 'count', 'basereads', 'quals'])\n",
    "\n",
    "toremove = re.compile('[<>$*#^]')\n",
    "pileup_d['matches'] = pileup_d['basereads'].apply(lambda x: toremove.sub('', x))\n",
    "\n",
    "pileup_d['base_counts'] = pileup_d['matches'].apply(count_bases)\n",
    "pileup_d['entropy'] = pileup_d['base_counts'].apply(shannon_entropy)\n",
    "\n",
    "bedgraph_data_d = pileup_d[['chrom', 'pos', 'pos', 'entropy']]\n",
    "bedgraph_data_d.columns = ['chrom', 'start', 'end', 'value']\n",
    "\n",
    "bedgraph_data_d = bedgraph_data_d.copy()\n",
    "bedgraph_data_d.loc[:, 'end'] = bedgraph_data_d['start'] + 1\n",
    "\n",
    "bedgraph_data_d.to_csv('shannon_entropy_d.bedgraph', sep='\\t', header=False, index=False)\n",
    "\n",
    "print(bedgraph_data_d.head(10))"
   ]
  },
  {
   "cell_type": "code",
   "execution_count": 81,
   "id": "78a06add",
   "metadata": {},
   "outputs": [
    {
     "name": "stdout",
     "output_type": "stream",
     "text": [
      "   chrom     start       end  value\n",
      "0  chr13  48691290  48691291    0.0\n",
      "1  chr13  48691291  48691292    0.0\n",
      "2  chr13  48691292  48691293    0.0\n",
      "3  chr13  48691293  48691294    0.0\n",
      "4  chr13  48691294  48691295    0.0\n",
      "5  chr13  48691295  48691296    0.0\n",
      "6  chr13  48691296  48691297    0.0\n",
      "7  chr13  48691297  48691298    0.0\n",
      "8  chr13  48691298  48691299    0.0\n",
      "9  chr13  48691299  48691300    0.0\n"
     ]
    }
   ],
   "source": [
    "pileup_f1 = pd.read_csv('CLIP-let7f-1.pileup', sep='\\t', names=['chrom', 'pos', '_ref', 'count', 'basereads', 'quals'])\n",
    "\n",
    "toremove = re.compile('[<>$*#^]')\n",
    "pileup_f1['matches'] = pileup_f1['basereads'].apply(lambda x: toremove.sub('', x))\n",
    "\n",
    "pileup_f1['base_counts'] = pileup_f1['matches'].apply(count_bases)\n",
    "pileup_f1['entropy'] = pileup_f1['base_counts'].apply(shannon_entropy)\n",
    "\n",
    "bedgraph_data_f1 = pileup_f1[['chrom', 'pos', 'pos', 'entropy']]\n",
    "bedgraph_data_f1.columns = ['chrom', 'start', 'end', 'value']\n",
    "\n",
    "bedgraph_data_f1 = bedgraph_data_f1.copy()\n",
    "bedgraph_data_f1.loc[:, 'end'] = bedgraph_data_f1['start'] + 1\n",
    "\n",
    "bedgraph_data_f1.to_csv('shannon_entropy_f1.bedgraph', sep='\\t', header=False, index=False)\n",
    "\n",
    "print(bedgraph_data_f1.head(10))"
   ]
  },
  {
   "cell_type": "code",
   "execution_count": null,
   "id": "935a3d75",
   "metadata": {},
   "outputs": [],
   "source": []
  }
 ],
 "metadata": {
  "kernelspec": {
   "display_name": "Conda dnaseq",
   "language": "python",
   "name": "dnaseq"
  },
  "language_info": {
   "codemirror_mode": {
    "name": "ipython",
    "version": 3
   },
   "file_extension": ".py",
   "mimetype": "text/x-python",
   "name": "python",
   "nbconvert_exporter": "python",
   "pygments_lexer": "ipython3",
   "version": "3.10.13"
  }
 },
 "nbformat": 4,
 "nbformat_minor": 5
}
