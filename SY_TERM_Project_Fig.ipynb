{
 "cells": [
  {
   "cell_type": "code",
   "execution_count": 9,
   "id": "36e5d081-0836-496a-ba89-2c88aa3e4391",
   "metadata": {},
   "outputs": [
    {
     "name": "stdout",
     "output_type": "stream",
     "text": [
      "chr9\tENSEMBL\tgene\t106056039\t106056126\t.\t+\t.\tgene_id \"ENSMUSG00000065440.3\"; gene_type \"miRNA\"; gene_name \"Mirlet7g\"; level 3; mgi_id \"MGI:2676800\";\n",
      "chr9\tENSEMBL\ttranscript\t106056039\t106056126\t.\t+\t.\tgene_id \"ENSMUSG00000065440.3\"; transcript_id \"ENSMUST00000083506.3\"; gene_type \"miRNA\"; gene_name \"Mirlet7g\"; transcript_type \"miRNA\"; transcript_name \"Mirlet7g-201\"; level 3; transcript_support_level \"NA\"; mgi_id \"MGI:2676800\"; tag \"basic\";\n",
      "chr9\tENSEMBL\texon\t106056039\t106056126\t.\t+\t.\tgene_id \"ENSMUSG00000065440.3\"; transcript_id \"ENSMUST00000083506.3\"; gene_type \"miRNA\"; gene_name \"Mirlet7g\"; transcript_type \"miRNA\"; transcript_name \"Mirlet7g-201\"; exon_number 1; exon_id \"ENSMUSE00000522665.2\"; level 3; transcript_support_level \"NA\"; mgi_id \"MGI:2676800\"; tag \"basic\";\n"
     ]
    }
   ],
   "source": [
    "# mirlet7g의 좌표계 확인하기\n",
    "\n",
    "# 목표 : Figure 1C를 만든 다음에, 다른 주제로 확장해나기기\n",
    "\n",
    "!grep -i mirlet7g ./gencode.gtf"
   ]
  },
  {
   "cell_type": "code",
   "execution_count": 2,
   "id": "ed450812-d2ef-426f-82ea-7859642fff2d",
   "metadata": {},
   "outputs": [
    {
     "name": "stdout",
     "output_type": "stream",
     "text": [
      "163\n"
     ]
    }
   ],
   "source": [
    "\n",
    "# antibody clone 35L33G 을 사용했을 때, mapping 된 부분 중에서 let7g region에 붙은 곳을 가져옴\n",
    "\n",
    "!samtools view -b -o CLIP-let7g.bam ../binfo1-datapack1/CLIP-35L33G.bam chr9:106056039-106056126\n",
    "!samtools view CLIP-let7g.bam | wc -l"
   ]
  },
  {
   "cell_type": "code",
   "execution_count": 3,
   "id": "fcc4d66e-ef56-4ed2-be79-7007c9026f3e",
   "metadata": {},
   "outputs": [
    {
     "name": "stdout",
     "output_type": "stream",
     "text": [
      "[mpileup] 1 samples in 1 input files\n",
      "68548 CLIP-let7g.pileup\n"
     ]
    }
   ],
   "source": [
    "!samtools mpileup CLIP-let7g.bam > CLIP-let7g.pileup\n",
    "!wc -l CLIP-let7g.pileup # 이전 실습 데이터"
   ]
  },
  {
   "cell_type": "code",
   "execution_count": 6,
   "id": "2b1d0606-9a14-4ddd-b1d2-8179479ca722",
   "metadata": {},
   "outputs": [],
   "source": [
    "# sort coordinate\n",
    "!samtools sort -o CLIP-let7g.sorted.bam CLIP-let7g.bam\n",
    "!samtools index CLIP-let7g.sorted.bam\n"
   ]
  },
  {
   "cell_type": "code",
   "execution_count": 7,
   "id": "f1e23cc0-9510-4e51-8c9e-f8b440615fa7",
   "metadata": {},
   "outputs": [
    {
     "name": "stdout",
     "output_type": "stream",
     "text": [
      "bamFilesList: ['CLIP-let7g.sorted.bam']\n",
      "binLength: 50\n",
      "numberOfSamples: None\n",
      "blackListFileName: None\n",
      "skipZeroOverZero: False\n",
      "bed_and_bin: False\n",
      "genomeChunkSize: None\n",
      "defaultFragmentLength: read length\n",
      "numberOfProcessors: 1\n",
      "verbose: False\n",
      "region: None\n",
      "bedFile: None\n",
      "minMappingQuality: None\n",
      "ignoreDuplicates: False\n",
      "chrsToSkip: []\n",
      "stepSize: 50\n",
      "center_read: False\n",
      "samFlag_include: None\n",
      "samFlag_exclude: None\n",
      "minFragmentLength: 0\n",
      "maxFragmentLength: 0\n",
      "zerosToNans: False\n",
      "smoothLength: None\n",
      "save_data: False\n",
      "out_file_for_raw_data: None\n",
      "maxPairedFragmentLength: 1000\n",
      "^C\n",
      "Traceback (most recent call last):\n",
      "  File \"/home/ssoyik7239/miniconda3/envs/dnaseq/bin/bamCoverage\", line 10, in <module>\n",
      "    sys.exit(main())\n",
      "  File \"/home/ssoyik7239/miniconda3/envs/dnaseq/lib/python3.10/site-packages/deeptools/bamCoverage.py\", line 256, in main\n",
      "    wr.run(writeBedGraph.scaleCoverage, func_args, args.outFileName,\n",
      "  File \"/home/ssoyik7239/miniconda3/envs/dnaseq/lib/python3.10/site-packages/deeptools/writeBedGraph.py\", line 145, in run\n",
      "    res = mapReduce.mapReduce([func_to_call, func_args],\n",
      "  File \"/home/ssoyik7239/miniconda3/envs/dnaseq/lib/python3.10/site-packages/deeptools/mapReduce.py\", line 146, in mapReduce\n",
      "    res = list(map(func, TASKS))\n",
      "  File \"/home/ssoyik7239/miniconda3/envs/dnaseq/lib/python3.10/site-packages/deeptools/writeBedGraph.py\", line 27, in writeBedGraph_wrapper\n",
      "    return WriteBedGraph.writeBedGraph_worker(*args)\n",
      "  File \"/home/ssoyik7239/miniconda3/envs/dnaseq/lib/python3.10/site-packages/deeptools/writeBedGraph.py\", line 260, in writeBedGraph_worker\n",
      "    if previous_value is None:\n",
      "KeyboardInterrupt\n"
     ]
    }
   ],
   "source": [
    "# make bedgraph\n",
    "\n",
    "!bamCoverage -b CLIP-let7g.sorted.bam -o CLIP-let7g.bw"
   ]
  },
  {
   "cell_type": "code",
   "execution_count": null,
   "id": "ab974ed1-7a35-49f0-80fe-3eca4f5e9ac5",
   "metadata": {},
   "outputs": [],
   "source": []
  }
 ],
 "metadata": {
  "kernelspec": {
   "display_name": "Python (dnaseq3)",
   "language": "python",
   "name": "dnaseq3"
  },
  "language_info": {
   "codemirror_mode": {
    "name": "ipython",
    "version": 3
   },
   "file_extension": ".py",
   "mimetype": "text/x-python",
   "name": "python",
   "nbconvert_exporter": "python",
   "pygments_lexer": "ipython3",
   "version": "3.10.13"
  }
 },
 "nbformat": 4,
 "nbformat_minor": 5
}
