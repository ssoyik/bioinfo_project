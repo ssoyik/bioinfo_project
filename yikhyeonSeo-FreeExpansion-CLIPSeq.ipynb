{
 "cells": [
  {
   "cell_type": "code",
   "execution_count": 2,
   "id": "ea28d7d2",
   "metadata": {},
   "outputs": [
    {
     "name": "stdout",
     "output_type": "stream",
     "text": [
      "/home/ssoyik7239/downloads/jupyter_notebook\r\n"
     ]
    }
   ],
   "source": [
    "!pwd"
   ]
  },
  {
   "cell_type": "code",
   "execution_count": 6,
   "id": "2a58d95a",
   "metadata": {},
   "outputs": [
    {
     "name": "stdout",
     "output_type": "stream",
     "text": [
      "/home/ssoyik7239/bioinfo_snu/bioinfo_project/test\n"
     ]
    }
   ],
   "source": [
    "%cd ~/bioinfo_snu/bioinfo_project/test"
   ]
  },
  {
   "cell_type": "code",
   "execution_count": 8,
   "id": "8b830a55",
   "metadata": {},
   "outputs": [
    {
     "name": "stdout",
     "output_type": "stream",
     "text": [
      "mkdir: cannot create directory ‘raw’: File exists\r\n"
     ]
    }
   ],
   "source": [
    "!mkdir raw"
   ]
  },
  {
   "cell_type": "code",
   "execution_count": 13,
   "id": "d9af691c",
   "metadata": {},
   "outputs": [
    {
     "name": "stdout",
     "output_type": "stream",
     "text": [
      "raw\r\n"
     ]
    }
   ],
   "source": [
    "!ls"
   ]
  },
  {
   "cell_type": "code",
   "execution_count": null,
   "id": "df6a275e",
   "metadata": {},
   "outputs": [
    {
     "name": "stdout",
     "output_type": "stream",
     "text": [
      "--2024-05-27 23:16:09--  ftp://ftp.sra.ebi.ac.uk/vol1/fastq/SRR458/SRR458758/SRR458758.fastq.gz\n",
      "           => ‘GSM910955_A3-1_LIN28A_CLIP_35L33G_mAb.fastq.gz’\n",
      "Resolving ftp.sra.ebi.ac.uk (ftp.sra.ebi.ac.uk)... 193.62.193.165\n",
      "Connecting to ftp.sra.ebi.ac.uk (ftp.sra.ebi.ac.uk)|193.62.193.165|:21... connected.\n",
      "Logging in as anonymous ... Logged in!\n",
      "==> SYST ... done.    ==> PWD ... done.\n",
      "==> TYPE I ... done.  ==> CWD (1) /vol1/fastq/SRR458/SRR458758 ... done.\n",
      "==> SIZE SRR458758.fastq.gz ... 1845485363\n",
      "==> PASV ... done.    ==> RETR SRR458758.fastq.gz ... done.\n",
      "Length: 1845485363 (1.7G) (unauthoritative)\n",
      "\n",
      "SRR458758.fastq.gz   11%[=>                  ] 210.28M  7.75MB/s    eta 3m 14s "
     ]
    }
   ],
   "source": [
    "# download data to make 자유주제 2E 재현하기, secondary structure 선호도를 조사해봅시다\n",
    "\n",
    "# Download LIN28A CLIP-seq datasets\n",
    "!wget -O GSM910955_A3-1_LIN28A_CLIP_35L33G_mAb.fastq.gz \"ftp://ftp.sra.ebi.ac.uk/vol1/fastq/SRR458/SRR458758/SRR458758.fastq.gz\"\n",
    "!wget -O GSM910956_A3-1_LIN28A_CLIP_2J3_mAb.fastq.gz \"ftp://ftp.sra.ebi.ac.uk/vol1/fastq/SRR458/SRR458759/SRR458759.fastq.gz\"\n",
    "!wget -O GSM910957_A3-1_LIN28A_CLIP_polyclonal.fastq.gz \"ftp://ftp.sra.ebi.ac.uk/vol1/fastq/SRR458/SRR458760/SRR458760.fastq.gz\"\n",
    "\n",
    "# Download PolyA+ RNA-seq datasets\n",
    "!wget -O GSM910950_A3-1_PolyA_RNA-seq_untreated.fastq.gz \"ftp://ftp.sra.ebi.ac.uk/vol1/fastq/SRR458/SRR458753/SRR458753.fastq.gz\"\n",
    "!wget -O GSM910951_A3-1_PolyA_RNA-seq_siLuc.fastq.gz \"ftp://ftp.sra.ebi.ac.uk/vol1/fastq/SRR458/SRR458754/SRR458754.fastq.gz\"\n",
    "!wget -O GSM910952_A3-1_PolyA_RNA-seq_siLin28a.fastq.gz \"ftp://ftp.sra.ebi.ac.uk/vol1/fastq/SRR458/SRR458755/SRR458755.fastq.gz\""
   ]
  },
  {
   "cell_type": "code",
   "execution_count": null,
   "id": "7d11e003",
   "metadata": {},
   "outputs": [],
   "source": []
  }
 ],
 "metadata": {
  "kernelspec": {
   "display_name": "Conda dnaseq",
   "language": "python",
   "name": "dnaseq"
  },
  "language_info": {
   "codemirror_mode": {
    "name": "ipython",
    "version": 3
   },
   "file_extension": ".py",
   "mimetype": "text/x-python",
   "name": "python",
   "nbconvert_exporter": "python",
   "pygments_lexer": "ipython3",
   "version": "3.10.13"
  }
 },
 "nbformat": 4,
 "nbformat_minor": 5
}
